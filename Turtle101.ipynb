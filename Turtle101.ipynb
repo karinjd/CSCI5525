{
  "nbformat": 4,
  "nbformat_minor": 0,
  "metadata": {
    "colab": {
      "name": "Turtle101.ipynb",
      "provenance": [],
      "authorship_tag": "ABX9TyNi9iQ97Q5nWAgz7IJMhY4k",
      "include_colab_link": true
    },
    "kernelspec": {
      "name": "python3",
      "display_name": "Python 3"
    }
  },
  "cells": [
    {
      "cell_type": "markdown",
      "metadata": {
        "id": "view-in-github",
        "colab_type": "text"
      },
      "source": [
        "<a href=\"https://colab.research.google.com/github/karinjd/CSCI5525/blob/master/Turtle101.ipynb\" target=\"_parent\"><img src=\"https://colab.research.google.com/assets/colab-badge.svg\" alt=\"Open In Colab\"/></a>"
      ]
    },
    {
      "cell_type": "code",
      "metadata": {
        "id": "RosvxATs8j1E"
      },
      "source": [
        "!pip3 install ColabTurtle\n",
        "from ColabTurtle.Turtle import *"
      ],
      "execution_count": null,
      "outputs": []
    },
    {
      "cell_type": "markdown",
      "metadata": {
        "id": "XLfDIf3O09_g"
      },
      "source": [
        "<br/><br/>",
        "\n",
        "The `initializeTurtle()` function call will create a turtle for us!\n",
        "\n",
        "If you already have a turtle, the `intializeTurtle()` function will erase your turtle's history so that you can start over."
      ]
    },
    {
      "cell_type": "code",
      "metadata": {
        "id": "8v6Z3m5P8k4A"
      },
      "source": [
        "initializeTurtle()"
      ],
      "execution_count": null,
      "outputs": []
    },
    {
      "cell_type": "markdown",
      "metadata": {
        "id": "_OZcKzTu1MZD"
      },
      "source": [
        "<br/><br/>",
        "\n",
        "Below are two cells that call the `forward` and `right` functions. What do you think the `forward(10)` function does? How about the `right(90)` function? What happens if you change the numbers inside the parentheses?"
      ]
    },
    {
      "cell_type": "code",
      "metadata": {
        "id": "0rCIXXNm8orQ"
      },
      "source": [
        "forward(10)"
      ],
      "execution_count": null,
      "outputs": []
    },
    {
      "cell_type": "code",
      "metadata": {
        "id": "1_45EzsZ8q5O"
      },
      "source": [
        "right(90)"
      ],
      "execution_count": null,
      "outputs": []
    },
    {
      "cell_type": "markdown",
      "metadata": {
        "id": "AVkyu-371rYv"
      },
      "source": [
        "<br/><br/>",
        "\n",
        "We can use variables like `x` and `y` to store values. Here is an example of `x` storing the value `10`. \n",
        "\n",
        "```\n",
        "x = 10\n",
        "forward(x)\n",
        "```\n",
        "The above code does the same thing as `forward(10).\n",
        "\n",
        "You don't have to name your variables `x` and `y` -- you can use any combination of letters for your variable name, like `number = 10`."
      ]
    },
    {
      "cell_type": "code",
      "metadata": {
        "id": "ztitpLMo8sTS"
      },
      "source": [
        "x = 50\n",
        "y = 90\n",
        "forward(x)\n",
        "right(y)"
      ],
      "execution_count": null,
      "outputs": []
    },
    {
      "cell_type": "markdown",
      "metadata": {
        "id": "KN9zVgYQ2Kkt"
      },
      "source": [
        "<br/><br/>",
        "\n",
        "This is your final challenge for part 1!\n",
        "\n",
        "Erase everything you've done with your turtle so far by scrolling up and running the `initializeTurtle()` cell again. Then, create a new code block and see if you can **draw a square** with the turtle by calling the `forward` and `right` functions. If you want, see if you can use variables too."
      ]
    }
  ]
}
